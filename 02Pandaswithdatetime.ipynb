{
 "metadata": {
  "language_info": {
   "codemirror_mode": {
    "name": "ipython",
    "version": 3
   },
   "file_extension": ".py",
   "mimetype": "text/x-python",
   "name": "python",
   "nbconvert_exporter": "python",
   "pygments_lexer": "ipython3",
   "version": "3.8.5-final"
  },
  "orig_nbformat": 2,
  "kernelspec": {
   "name": "python3",
   "display_name": "Python 3"
  }
 },
 "nbformat": 4,
 "nbformat_minor": 2,
 "cells": [
  {
   "source": [
    "# DateTime in Pandas\n",
    "\n",
    "* Pamdas has some great methods for handling dates and times, such as to_datetime() and to_timedelta()."
   ],
   "cell_type": "markdown",
   "metadata": {}
  },
  {
   "source": [
    "## DateTime Properties"
   ],
   "cell_type": "markdown",
   "metadata": {}
  },
  {
   "source": [
    "** Covert string object into datetime object **\n",
    "\n",
    "* The to_datetime() method converts the date and time in string format to a DateTime object:"
   ],
   "cell_type": "markdown",
   "metadata": {}
  },
  {
   "cell_type": "code",
   "execution_count": 9,
   "metadata": {},
   "outputs": [],
   "source": [
    "# Import Libraries\n",
    "import numpy as np \n",
    "\n",
    "import pandas as pd\n",
    "import datetime"
   ]
  },
  {
   "cell_type": "code",
   "execution_count": 10,
   "metadata": {},
   "outputs": [],
   "source": [
    "data = pd.read_csv('timeseries.csv')"
   ]
  },
  {
   "cell_type": "code",
   "execution_count": 11,
   "metadata": {},
   "outputs": [
    {
     "output_type": "execute_result",
     "data": {
      "text/plain": [
       "          City Colors Reported Shape Reported State             Time\n",
       "0       Ithaca             NaN       TRIANGLE    NY   6/1/1930 22:00\n",
       "1  Willingboro             NaN          OTHER    NJ  6/30/1930 20:00\n",
       "2      Holyoke             NaN           OVAL    CO  2/15/1931 14:00"
      ],
      "text/html": "<div>\n<style scoped>\n    .dataframe tbody tr th:only-of-type {\n        vertical-align: middle;\n    }\n\n    .dataframe tbody tr th {\n        vertical-align: top;\n    }\n\n    .dataframe thead th {\n        text-align: right;\n    }\n</style>\n<table border=\"1\" class=\"dataframe\">\n  <thead>\n    <tr style=\"text-align: right;\">\n      <th></th>\n      <th>City</th>\n      <th>Colors Reported</th>\n      <th>Shape Reported</th>\n      <th>State</th>\n      <th>Time</th>\n    </tr>\n  </thead>\n  <tbody>\n    <tr>\n      <th>0</th>\n      <td>Ithaca</td>\n      <td>NaN</td>\n      <td>TRIANGLE</td>\n      <td>NY</td>\n      <td>6/1/1930 22:00</td>\n    </tr>\n    <tr>\n      <th>1</th>\n      <td>Willingboro</td>\n      <td>NaN</td>\n      <td>OTHER</td>\n      <td>NJ</td>\n      <td>6/30/1930 20:00</td>\n    </tr>\n    <tr>\n      <th>2</th>\n      <td>Holyoke</td>\n      <td>NaN</td>\n      <td>OVAL</td>\n      <td>CO</td>\n      <td>2/15/1931 14:00</td>\n    </tr>\n  </tbody>\n</table>\n</div>"
     },
     "metadata": {},
     "execution_count": 11
    }
   ],
   "source": [
    "data.head(3)"
   ]
  },
  {
   "cell_type": "code",
   "execution_count": 13,
   "metadata": {},
   "outputs": [
    {
     "output_type": "stream",
     "name": "stdout",
     "text": [
      "<class 'pandas.core.frame.DataFrame'>\nRangeIndex: 18241 entries, 0 to 18240\nData columns (total 5 columns):\n #   Column           Non-Null Count  Dtype \n---  ------           --------------  ----- \n 0   City             18216 non-null  object\n 1   Colors Reported  2882 non-null   object\n 2   Shape Reported   15597 non-null  object\n 3   State            18241 non-null  object\n 4   Time             18241 non-null  object\ndtypes: object(5)\nmemory usage: 712.7+ KB\n"
     ]
    }
   ],
   "source": [
    "data.info()\n",
    "#Time is string objecct"
   ]
  },
  {
   "cell_type": "code",
   "execution_count": 14,
   "metadata": {},
   "outputs": [],
   "source": [
    "data['Time'] = pd.to_datetime(data.Time)"
   ]
  },
  {
   "cell_type": "code",
   "execution_count": 16,
   "metadata": {},
   "outputs": [
    {
     "output_type": "stream",
     "name": "stdout",
     "text": [
      "<class 'pandas.core.frame.DataFrame'>\nRangeIndex: 18241 entries, 0 to 18240\nData columns (total 5 columns):\n #   Column           Non-Null Count  Dtype         \n---  ------           --------------  -----         \n 0   City             18216 non-null  object        \n 1   Colors Reported  2882 non-null   object        \n 2   Shape Reported   15597 non-null  object        \n 3   State            18241 non-null  object        \n 4   Time             18241 non-null  datetime64[ns]\ndtypes: datetime64[ns](1), object(4)\nmemory usage: 712.7+ KB\n"
     ]
    }
   ],
   "source": [
    "data.info()\n",
    "#We can see the string object  changed into the datetime object"
   ]
  },
  {
   "source": [
    "** Check time properties **"
   ],
   "cell_type": "markdown",
   "metadata": {}
  },
  {
   "cell_type": "code",
   "execution_count": 22,
   "metadata": {},
   "outputs": [
    {
     "output_type": "stream",
     "name": "stdout",
     "text": [
      "Time: 0    22:00:00\nName: Time, dtype: object\nHour: 0    22\nName: Time, dtype: int64\nMinute: 0    0\nName: Time, dtype: int64\nMicrosecond: 0    0\nName: Time, dtype: int64\nNanosecond: 0    0\nName: Time, dtype: int64\n"
     ]
    }
   ],
   "source": [
    "#Time\n",
    "print('Time:',data['Time'].dt.time.head(1))\n",
    "#Hour\n",
    "print('Hour:',data['Time'].dt.hour.head(1))\n",
    "#Minute\n",
    "print('Minute:',data['Time'].dt.minute.head(1))\n",
    "#Microsecond\n",
    "print('Microsecond:',data['Time'].dt.microsecond.head(1))\n",
    "#Nanosecond\n",
    "print('Nanosecond:',data['Time'].dt.nanosecond.head(1))"
   ]
  },
  {
   "source": [
    "** Check Day,Month,Year properties **\n"
   ],
   "cell_type": "markdown",
   "metadata": {}
  },
  {
   "source": [
    "** DAY **"
   ],
   "cell_type": "markdown",
   "metadata": {}
  },
  {
   "cell_type": "code",
   "execution_count": 32,
   "metadata": {},
   "outputs": [
    {
     "output_type": "stream",
     "name": "stdout",
     "text": [
      "Day: 0    1\nName: Time, dtype: int64\nDay of week: 0    6\nName: Time, dtype: int64\nDay of week: 0    6\nName: Time, dtype: int64\nDay of year: 0    152\nName: Time, dtype: int64\nTotal days in month: 0    30\nName: Time, dtype: int64\n"
     ]
    }
   ],
   "source": [
    "#Day\n",
    "print('Day:',data['Time'].dt.day.head(1))\n",
    "#Day of week\n",
    "print('Day of week:',data['Time'].dt.dayofweek.head(1))\n",
    "print('Day of week:',data['Time'].dt.weekday.head(1))\n",
    "#Day of year\n",
    "print('Day of year:',data['Time'].dt.dayofyear.head(1))\n",
    "#Total days in month\n",
    "print('Total days in month:',data['Time'].dt.daysinmonth.head(1))"
   ]
  },
  {
   "source": [
    "** WEEK **"
   ],
   "cell_type": "markdown",
   "metadata": {}
  },
  {
   "cell_type": "code",
   "execution_count": 33,
   "metadata": {},
   "outputs": [
    {
     "output_type": "stream",
     "name": "stdout",
     "text": [
      "Week: 0    22\nName: Time, dtype: int64\nWeek of year: 0    22\nName: Time, dtype: int64\n"
     ]
    }
   ],
   "source": [
    "#Week\n",
    "print('Week:',data['Time'].dt.week.head(1))\n",
    "#Week of year\n",
    "print('Week of year:',data['Time'].dt.weekofyear.head(1))"
   ]
  },
  {
   "source": [
    "** MONTH **"
   ],
   "cell_type": "markdown",
   "metadata": {}
  },
  {
   "cell_type": "code",
   "execution_count": 28,
   "metadata": {},
   "outputs": [
    {
     "output_type": "stream",
     "name": "stdout",
     "text": [
      "Month: 0    6\nName: Time, dtype: int64\nMonth start or not: 0    True\nName: Time, dtype: bool\nMonth End or not: 0    False\nName: Time, dtype: bool\n"
     ]
    }
   ],
   "source": [
    "#Month\n",
    "print('Month:',data['Time'].dt.month.head(1))\n",
    "#Month Start or not\n",
    "print('Month start or not:',data['Time'].dt.is_month_start.head(1))\n",
    "#Month End or not\n",
    "print('Month End or not:',data['Time'].dt.is_month_end.head(1))\n"
   ]
  },
  {
   "source": [
    "** YEAR **"
   ],
   "cell_type": "markdown",
   "metadata": {}
  },
  {
   "cell_type": "code",
   "execution_count": 34,
   "metadata": {},
   "outputs": [
    {
     "output_type": "stream",
     "name": "stdout",
     "text": [
      "Year: 0    1930\nName: Time, dtype: int64\nYear Start or not: 0    False\nName: Time, dtype: bool\nYear end or not: 0    False\nName: Time, dtype: bool\nLeap year or not: 0    False\nName: Time, dtype: bool\n"
     ]
    }
   ],
   "source": [
    "#Year\n",
    "print('Year:',data['Time'].dt.year.head(1))\n",
    "#Year Start or not\n",
    "print('Year Start or not:',data['Time'].dt.is_year_start.head(1))\n",
    "#Year end or not\n",
    "print('Year end or not:',data['Time'].dt.is_year_end.head(1))\n",
    "#Leap year or not\n",
    "print('Leap year or not:',data['Time'].dt.is_leap_year.head(1))\n",
    "\n"
   ]
  },
  {
   "source": [
    "## Datetime Methods"
   ],
   "cell_type": "markdown",
   "metadata": {}
  },
  {
   "source": [
    "## Timedelta Properties"
   ],
   "cell_type": "markdown",
   "metadata": {}
  },
  {
   "source": [
    "## Timedelta Methods"
   ],
   "cell_type": "markdown",
   "metadata": {}
  },
  {
   "cell_type": "code",
   "execution_count": null,
   "metadata": {},
   "outputs": [],
   "source": []
  }
 ]
}